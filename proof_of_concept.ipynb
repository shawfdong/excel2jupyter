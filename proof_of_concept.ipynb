{
 "cells": [
  {
   "cell_type": "code",
   "execution_count": 1,
   "metadata": {},
   "outputs": [
    {
     "data": {
      "application/vnd.jupyter.widget-view+json": {
       "model_id": "317693470aa9446abd51b6439186c847",
       "version_major": 2,
       "version_minor": 0
      },
      "text/plain": [
       "Label(value='Select values then click the RUN button')"
      ]
     },
     "metadata": {},
     "output_type": "display_data"
    },
    {
     "data": {
      "application/vnd.jupyter.widget-view+json": {
       "model_id": "895840024e62421eadc66fd74ab119a7",
       "version_major": 2,
       "version_minor": 0
      },
      "text/plain": [
       "VBox(children=(Dropdown(description='Energy Price Trend', layout=Layout(width='400px'), options=('AEO 2019 Ref…"
      ]
     },
     "metadata": {},
     "output_type": "display_data"
    },
    {
     "data": {
      "application/vnd.jupyter.widget-view+json": {
       "model_id": "027290b1b585450da05d828528fb73c0",
       "version_major": 2,
       "version_minor": 0
      },
      "text/plain": [
       "Button(button_style='danger', description='RUN', style=ButtonStyle(), tooltip='Run')"
      ]
     },
     "metadata": {},
     "output_type": "display_data"
    },
    {
     "data": {
      "application/vnd.jupyter.widget-view+json": {
       "model_id": "1996ab4a41db499ba9713b74281de892",
       "version_major": 2,
       "version_minor": 0
      },
      "text/plain": [
       "Output()"
      ]
     },
     "metadata": {},
     "output_type": "display_data"
    }
   ],
   "source": [
    "from IPython.display import display\n",
    "from ipywidgets import Label, Dropdown, Button, VBox, HBox, Layout, Output\n",
    "\n",
    "caption = Label(value='Select values then click the RUN button')\n",
    "\n",
    "style = {'description_width': '150px'}\n",
    "layout = {'width': '400px'}\n",
    "options = [['AEO 2019 Reference', 'AEO 2019 High Growth', 'AEO 2019 Low Growth'],\n",
    "           ['2023', '2024', '2025', '2026'],\n",
    "           ['100', '1000', '2000', '5000', '10000', '50000'],\n",
    "           ['National', 'Low Income', 'Senior-Only'],\n",
    "           ['Default', 'No Learning']]\n",
    "value = ['AEO 2019 Reference',\n",
    "         '2024',\n",
    "         '10000',\n",
    "         'National',\n",
    "         'Default']\n",
    "desc = ['Energy Price Trend',\n",
    "        'Start Year',\n",
    "        '# of Trials',\n",
    "        'Analysis Group',\n",
    "        'Learning']\n",
    "\n",
    "dropdown = [Dropdown(options=options[i], value=value[i], description=desc[i], \n",
    "    style=style, layout=layout) for i in range(5)]\n",
    "vbox = VBox(dropdown)\n",
    "\n",
    "button = Button(\n",
    "    description='RUN',\n",
    "    disabled=False,\n",
    "    button_style='danger', # 'success', 'info', 'warning', 'danger' or ''\n",
    "    tooltip='Run'\n",
    ")\n",
    "\n",
    "output = Output()\n",
    "display(caption, vbox, button, output)\n",
    "\n",
    "def on_button_clicked(b):\n",
    "    output.clear_output()\n",
    "    with output:\n",
    "        h = [HBox([Button(description=desc[i]), Button(description=dropdown[i].value)]) for i in range(5)]\n",
    "        v = VBox(h)\n",
    "        display(v)\n",
    "\n",
    "button.on_click(on_button_clicked)"
   ]
  },
  {
   "cell_type": "code",
   "execution_count": null,
   "metadata": {},
   "outputs": [],
   "source": []
  }
 ],
 "metadata": {
  "kernelspec": {
   "display_name": "Python 3",
   "language": "python",
   "name": "python3"
  },
  "language_info": {
   "codemirror_mode": {
    "name": "ipython",
    "version": 3
   },
   "file_extension": ".py",
   "mimetype": "text/x-python",
   "name": "python",
   "nbconvert_exporter": "python",
   "pygments_lexer": "ipython3",
   "version": "3.7.6"
  }
 },
 "nbformat": 4,
 "nbformat_minor": 4
}
